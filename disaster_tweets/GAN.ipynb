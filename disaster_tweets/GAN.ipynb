{
 "cells": [
  {
   "cell_type": "code",
   "execution_count": 1,
   "id": "9212eb6f-faf2-4ccf-a692-0fc8112673be",
   "metadata": {},
   "outputs": [],
   "source": [
    "import numpy as np\n",
    "import matplotlib.pyplot as plt\n",
    "import seaborn as sns\n",
    "\n",
    "# DL and data processing:\n",
    "import torch\n",
    "from torch import nn\n",
    "from torchtext.data.utils import get_tokenizer\n",
    "from torchtext.vocab import build_vocab_from_iterator\n",
    "from torch.utils.data import Dataset, DataLoader\n",
    "import pandas as pd\n",
    "\n",
    "#progress bars\n",
    "from tqdm.notebook import tqdm, trange, tnrange\n",
    "\n",
    "# plotting params\n",
    "sns.set()\n",
    "plt.rcParams['figure.figsize'] = (12, 4)\n",
    "plt.rcParams['axes.titlesize'] = 20\n",
    "device = 'cuda' if torch.cuda.is_available() else 'cpu'\n",
    "np.random.seed(1234)\n",
    "torch.manual_seed(1234);\n",
    "\n",
    "# make model notebook device agnostic\n",
    "device = torch.device(\"cuda\" if torch.cuda.is_available() else \"cpu\")"
   ]
  },
  {
   "cell_type": "code",
   "execution_count": 2,
   "id": "53e1a9c7-28d4-4523-ace4-dbbb8498289d",
   "metadata": {},
   "outputs": [],
   "source": [
    "class TextFromPandas(Dataset):\n",
    "    def __init__(self, dataframe):\n",
    "        self.dataframe = dataframe\n",
    "        self.n = 0\n",
    "             \n",
    "    def __getitem__(self, idx):\n",
    "        text = pd.Series(self.dataframe.iloc[idx, :-1], dtype=\"string\")\n",
    "        label = self.dataframe.iloc[idx, -1]\n",
    "        return label, \" \".join(text.tolist())\n",
    "    \n",
    "    def __len__(self):\n",
    "        return len(self.dataframe)\n",
    "    \n",
    "    def __iter__(self):\n",
    "        return self;\n",
    "    \n",
    "    def __next__(self):\n",
    "        if self.n < len(self):\n",
    "            result = self[self.n]\n",
    "            self.n += 1\n",
    "            return result\n",
    "        else:\n",
    "            raise StopIteration\n",
    "            "
   ]
  },
  {
   "cell_type": "code",
   "execution_count": 3,
   "id": "f652dff1-caa4-43d1-bc52-4bf7a4059a10",
   "metadata": {},
   "outputs": [
    {
     "data": {
      "text/html": [
       "<div>\n",
       "<style scoped>\n",
       "    .dataframe tbody tr th:only-of-type {\n",
       "        vertical-align: middle;\n",
       "    }\n",
       "\n",
       "    .dataframe tbody tr th {\n",
       "        vertical-align: top;\n",
       "    }\n",
       "\n",
       "    .dataframe thead th {\n",
       "        text-align: right;\n",
       "    }\n",
       "</style>\n",
       "<table border=\"1\" class=\"dataframe\">\n",
       "  <thead>\n",
       "    <tr style=\"text-align: right;\">\n",
       "      <th></th>\n",
       "      <th>keyword</th>\n",
       "      <th>location</th>\n",
       "      <th>text</th>\n",
       "      <th>target</th>\n",
       "    </tr>\n",
       "  </thead>\n",
       "  <tbody>\n",
       "    <tr>\n",
       "      <th>0</th>\n",
       "      <td>&lt;unk&gt;</td>\n",
       "      <td>&lt;unk&gt;</td>\n",
       "      <td>Our Deeds are the Reason of this #earthquake M...</td>\n",
       "      <td>1</td>\n",
       "    </tr>\n",
       "    <tr>\n",
       "      <th>1</th>\n",
       "      <td>&lt;unk&gt;</td>\n",
       "      <td>&lt;unk&gt;</td>\n",
       "      <td>Forest fire near La Ronge Sask. Canada</td>\n",
       "      <td>1</td>\n",
       "    </tr>\n",
       "    <tr>\n",
       "      <th>2</th>\n",
       "      <td>&lt;unk&gt;</td>\n",
       "      <td>&lt;unk&gt;</td>\n",
       "      <td>All residents asked to 'shelter in place' are ...</td>\n",
       "      <td>1</td>\n",
       "    </tr>\n",
       "    <tr>\n",
       "      <th>3</th>\n",
       "      <td>&lt;unk&gt;</td>\n",
       "      <td>&lt;unk&gt;</td>\n",
       "      <td>13,000 people receive #wildfires evacuation or...</td>\n",
       "      <td>1</td>\n",
       "    </tr>\n",
       "    <tr>\n",
       "      <th>4</th>\n",
       "      <td>&lt;unk&gt;</td>\n",
       "      <td>&lt;unk&gt;</td>\n",
       "      <td>Just got sent this photo from Ruby #Alaska as ...</td>\n",
       "      <td>1</td>\n",
       "    </tr>\n",
       "  </tbody>\n",
       "</table>\n",
       "</div>"
      ],
      "text/plain": [
       "  keyword location                                               text  target\n",
       "0   <unk>    <unk>  Our Deeds are the Reason of this #earthquake M...       1\n",
       "1   <unk>    <unk>             Forest fire near La Ronge Sask. Canada       1\n",
       "2   <unk>    <unk>  All residents asked to 'shelter in place' are ...       1\n",
       "3   <unk>    <unk>  13,000 people receive #wildfires evacuation or...       1\n",
       "4   <unk>    <unk>  Just got sent this photo from Ruby #Alaska as ...       1"
      ]
     },
     "execution_count": 3,
     "metadata": {},
     "output_type": "execute_result"
    }
   ],
   "source": [
    "tweet_df = pd.read_csv('data/train.csv').drop(['id'], axis=1)\n",
    "tweet_df.fillna(value=\"<unk>\", inplace=True)\n",
    "dataset = TextFromPandas(tweet_df)\n",
    "tweet_df.head(5)"
   ]
  },
  {
   "cell_type": "code",
   "execution_count": 4,
   "id": "f2690d55-e201-479a-a02f-8f164eae5f75",
   "metadata": {},
   "outputs": [
    {
     "data": {
      "text/plain": [
       "((1,\n",
       "  '<unk> <unk> Our Deeds are the Reason of this #earthquake May ALLAH Forgive us all'),\n",
       " (1,\n",
       "  '<unk> <unk> The Latest: More Homes Razed by Northern California Wildfire - ABC News http://t.co/YmY4rSkQ3d'))"
      ]
     },
     "execution_count": 4,
     "metadata": {},
     "output_type": "execute_result"
    }
   ],
   "source": [
    "dataset[0], dataset[-1]"
   ]
  },
  {
   "cell_type": "code",
   "execution_count": 5,
   "id": "57fd21ef-96d9-46a4-8a4e-9d03ae4e4541",
   "metadata": {},
   "outputs": [],
   "source": [
    "# Build vocabulary from tweets plus AG_NEWS\n",
    "import itertools\n",
    "from torchtext.datasets import AG_NEWS\n",
    "\n",
    "# split an input string into tokens\n",
    "tokenizer = get_tokenizer('basic_english')\n",
    "\n",
    "# generator that tokenizes each element of an iterator into a list\n",
    "def yield_tokens(data_iter):\n",
    "    for _, text in data_iter:\n",
    "        yield tokenizer(text)\n",
    "\n",
    "#join tweets dataset with AG_NEWS dataset to get larger vocabulary\n",
    "all_text = itertools.chain(dataset, AG_NEWS(split='train'))\n",
    "\n",
    "# build vocabulary\n",
    "vocab = build_vocab_from_iterator(yield_tokens(all_text), specials=[\"<unk>\"])\n",
    "vocab.set_default_index(vocab[\"<unk>\"])"
   ]
  },
  {
   "cell_type": "code",
   "execution_count": 6,
   "id": "fdd0e8fc-4959-454f-a928-759ba5367893",
   "metadata": {},
   "outputs": [],
   "source": [
    "# Setup collate function and dataloader\n",
    "text_pipeline = lambda x: vocab(tokenizer(x))\n",
    "\n",
    "def collate_batch(batch):\n",
    "    label_list, text_list, offsets = [], [], [0]\n",
    "    for (_label, _text) in batch:\n",
    "        label_list.append(_label)\n",
    "        processed_text = torch.tensor(text_pipeline(_text), dtype=torch.int64)\n",
    "        text_list.append(processed_text)\n",
    "        offsets.append(processed_text.size(0))\n",
    "    label_list = torch.tensor(label_list, dtype=torch.float64)\n",
    "    offsets = torch.tensor(offsets[:-1]).cumsum(dim=0)\n",
    "    text_list = torch.cat(text_list)\n",
    "    return label_list.to(device), text_list.to(device), offsets.to(device)"
   ]
  },
  {
   "cell_type": "code",
   "execution_count": 7,
   "id": "88900820-5d14-4b9a-b3b7-f2ed420c5480",
   "metadata": {},
   "outputs": [],
   "source": [
    "from torch import nn\n",
    "\n",
    "class TextClassificationModel(nn.Module):\n",
    "\n",
    "    def __init__(self, vocab_size, embed_dim, num_class):\n",
    "        super(TextClassificationModel, self).__init__()\n",
    "        self.embedding = nn.EmbeddingBag(vocab_size, embed_dim, sparse=True)\n",
    "        self.fc = nn.Linear(embed_dim, num_class)\n",
    "        self.init_weights()\n",
    "\n",
    "    def init_weights(self):\n",
    "        initrange = 0.5\n",
    "        self.embedding.weight.data.uniform_(-initrange, initrange)\n",
    "        self.fc.weight.data.uniform_(-initrange, initrange)\n",
    "        self.fc.bias.data.zero_()\n",
    "\n",
    "    def forward(self, text, offsets):\n",
    "        embedded = self.embedding(text, offsets)\n",
    "        return self.fc(embedded)"
   ]
  },
  {
   "cell_type": "code",
   "execution_count": 8,
   "id": "e6e9a6f1-ad0e-432d-bda3-7255960bba58",
   "metadata": {},
   "outputs": [],
   "source": [
    "def train_one_epoch(model, opt, criterion, lr, trainloader):\n",
    "    model.to(device)\n",
    "    model.train()\n",
    "    \n",
    "    running_tl = 0\n",
    "    \n",
    "    for (label, text, offsets) in trainloader:\n",
    "        \n",
    "        opt.zero_grad()\n",
    "        \n",
    "        label, text = label.to(device), text.to(device)\n",
    "        label = label.reshape(label.size()[0], 1)\n",
    "        \n",
    "        output = model(text, offsets)\n",
    "        loss = criterion(output, label)\n",
    "\n",
    "        running_tl += loss.item()\n",
    "        loss.backward()\n",
    "        opt.step()\n",
    "        \n",
    "    return running_tl\n",
    "        \n",
    "def validate_one_epoch(model, opt, criterion, lr, validloader):\n",
    "    \n",
    "    running_vl = 0\n",
    "    \n",
    "    model.eval()\n",
    "    with torch.no_grad():\n",
    "        for (label, text, offsets) in validloader:\n",
    "            label = label.reshape(label.shape[0], 1)\n",
    "            output = model(text, offsets)\n",
    "            loss = criterion(output, label)\n",
    "            running_vl += loss.item()\n",
    "            \n",
    "    return running_vl\n",
    "    \n",
    "\n",
    "def train_model(model, opt, criterion, epochs, trainload, testload=None, lr=1e-3):\n",
    "    \n",
    "    avg_tl_per_epoch = []\n",
    "    avg_vl_per_epoch = []\n",
    "    \n",
    "    for e in trange(epochs):\n",
    "        running_tl = train_one_epoch(model, opt, criterion, lr, trainload)\n",
    "        avg_tl_per_epoch.append(running_tl / len(trainload))\n",
    "        if testload:\n",
    "            running_vl = validate_one_epoch(model, opt, criterion, lr, validloader)\n",
    "            avg_vl_per_epoch.append(running_vl / len(testload))\n",
    "    \n",
    "    return avg_tl_per_epoch, avg_vl_per_epoch\n",
    "            "
   ]
  },
  {
   "cell_type": "code",
   "execution_count": 9,
   "id": "eb377a9e-5919-40ae-a2d0-03ec7d4a9244",
   "metadata": {},
   "outputs": [],
   "source": [
    "# create training and testing datasets\n",
    "np.random.seed(1234)\n",
    "train_split = int(0.8 * len(tweet_df))\n",
    "idx = np.arange(0, len(tweet_df))\n",
    "np.random.shuffle(idx)\n",
    "\n",
    "train_idx = idx[:train_split]\n",
    "test_idx  = idx[train_split:]\n",
    "\n",
    "train_data = TextFromPandas(tweet_df.iloc[train_idx])\n",
    "test_data = TextFromPandas(tweet_df.iloc[test_idx])\n",
    "\n",
    "trainloader = DataLoader(train_data, batch_size=8, shuffle=True, collate_fn=collate_batch)\n",
    "validloader = DataLoader(test_data, batch_size=1, shuffle=True, collate_fn=collate_batch)"
   ]
  },
  {
   "cell_type": "code",
   "execution_count": 10,
   "id": "ab0f5cd6-f9a4-4fda-83f9-78228d93a6b7",
   "metadata": {},
   "outputs": [],
   "source": [
    "# Instantiate a model\n",
    "vocab_size = len(vocab)\n",
    "num_classes = 1\n",
    "emb_size = 64\n",
    "\n",
    "model = TextClassificationModel(vocab_size, emb_size, num_classes)"
   ]
  },
  {
   "cell_type": "code",
   "execution_count": 11,
   "id": "6fb14ee4-088e-482f-90ba-90ca452ca2aa",
   "metadata": {},
   "outputs": [
    {
     "data": {
      "application/vnd.jupyter.widget-view+json": {
       "model_id": "04dea37f2ae24445a2d0d60e637257e4",
       "version_major": 2,
       "version_minor": 0
      },
      "text/plain": [
       "  0%|          | 0/100 [00:00<?, ?it/s]"
      ]
     },
     "metadata": {},
     "output_type": "display_data"
    }
   ],
   "source": [
    "# Setup training\n",
    "epochs = 100\n",
    "lr = 1e-2\n",
    "\n",
    "criterion = nn.BCEWithLogitsLoss()\n",
    "optimizer = torch.optim.SGD(model.parameters(), lr=lr)\n",
    "scheduler = torch.optim.lr_scheduler.StepLR(optimizer, 1.0, gamma=0.1)\n",
    "\n",
    "loss = train_model(model, optimizer, criterion, epochs, trainloader, validloader, lr=lr)"
   ]
  },
  {
   "cell_type": "code",
   "execution_count": 12,
   "id": "a77bc5d5-792d-4f84-9f42-1f224a305af0",
   "metadata": {},
   "outputs": [
    {
     "data": {
      "image/png": "[encoded data removed]",
      "text/plain": [
       "<Figure size 864x288 with 1 Axes>"
      ]
     },
     "metadata": {},
     "output_type": "display_data"
    }
   ],
   "source": [
    "fig, ax = plt.subplots()\n",
    "ax.set_xlabel(\"Epochs\")\n",
    "ax.set_ylabel(\"Binary Cross Entropy Loss\")\n",
    "sns.lineplot(data=loss[0], ax=ax, label=\"Training Loss\")\n",
    "sns.lineplot(data=loss[1], ax=ax, label=\"Validation Loss\")\n",
    "plt.legend()\n",
    "plt.show()"
   ]
  },
  {
   "cell_type": "code",
   "execution_count": null,
   "id": "cf019fdf-ff3b-4c69-934a-ce7dbeb27a8e",
   "metadata": {},
   "outputs": [],
   "source": []
  }
 ],
 "metadata": {
  "kernelspec": {
   "display_name": "Python 3",
   "language": "python",
   "name": "python3"
  },
  "language_info": {
   "codemirror_mode": {
    "name": "ipython",
    "version": 3
   },
   "file_extension": ".py",
   "mimetype": "text/x-python",
   "name": "python",
   "nbconvert_exporter": "python",
   "pygments_lexer": "ipython3",
   "version": "3.9.5"
  }
 },
 "nbformat": 4,
 "nbformat_minor": 5
}
